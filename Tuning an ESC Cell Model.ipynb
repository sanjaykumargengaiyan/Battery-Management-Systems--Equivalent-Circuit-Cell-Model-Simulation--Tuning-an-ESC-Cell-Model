{
 "cells": [
  {
   "cell_type": "code",
   "execution_count": null,
   "metadata": {},
   "outputs": [],
   "source": [
    "% First, make sure that the ESC toolbox functions are in the path\n",
    "addpath readonly"
   ]
  },
  {
   "cell_type": "code",
   "execution_count": 7,
   "metadata": {},
   "outputs": [],
   "source": [
    "% If you wish to create an Rint model, simply set rcValues equal\n",
    "% to the value of R0 (in milliohms).\n",
    "% If you wish to create a Thévenin model, define rcValues to be \n",
    "% a vector having three elements. The first element is R0 (in\n",
    "% milliohms), the second element is R1 (in milliohms), and the \n",
    "% third element is C1 (in kilofarads).\n",
    "% If you wish to create an extended Thévenin model having \n",
    "% additional resistor-capacitor branches, then define rcValues to\n",
    "% be a vector where the first element is R0 in milliohms, the \n",
    "% even-index elements (rcValues(2:2:end)) are resistor values for\n",
    "% the resistor-capacitor branches, in milliohms, and the remaining\n",
    "% odd-index elements (rcValues(3:2:end)) are capacitor values for\n",
    "% the resistor-capacitor branches, in kilofarads.\n",
    "\n",
    "function rcValues = tuneModel\n",
    "\n",
    "  % BEGIN MODIFYING CODE AFTER THIS\n",
    "  rcValues = [10] % This is a sample value. You will need to change it.\n",
    "end  "
   ]
  },
  {
   "cell_type": "code",
   "execution_count": 8,
   "metadata": {},
   "outputs": [
    {
     "name": "stdout",
     "output_type": "stream",
     "text": [
      "rcValues =  10\n",
      "Your tuning values produced an RMS voltage-prediction error of 27.3621 mV\n"
     ]
    },
    {
     "data": {
      "image/png": "[encoded data removed]",
      "text/plain": [
       "<IPython.core.display.Image object>"
      ]
     },
     "metadata": {},
     "output_type": "display_data"
    }
   ],
   "source": [
    "% Load data file to use for this capstone project\n",
    "% - these data have the fields: time, current, voltage\n",
    "% Also load a skeleton ESC model structure\n",
    "% - has total capacity and OCV relationship\n",
    "load readonly/pulseData.mat; % load data to use for this project\n",
    "load readonly/pulseModel.mat; % load SOC/OCV relationships, capacity\n",
    "T = 25;                            % Test temperature\n",
    "deltaT = 1;                        % sampling period for data\n",
    "Q = getParamESC('QParam',T,model); % total capacity of cell\n",
    "\n",
    "tk = pulseData.time;    % testing time\n",
    "ik = pulseData.current; % testing current\n",
    "vk = pulseData.voltage; % testing voltage\n",
    "\n",
    "% Get tuning values from user-modified function\n",
    "rcValues = tuneModel;\n",
    "\n",
    "% Simulate cell model using user-modified rcValues\n",
    "R0 = rcValues(1)/1000; % convert milliohms to ohms\n",
    "R = rcValues(2:2:end)/1000; % convert these also\n",
    "C = rcValues(3:2:end)*1000; % convert kF to F\n",
    "RCfact = exp(-deltaT./(R.*C));\n",
    "    \n",
    "% Simulate the dynamic states of the model\n",
    "iRk = zeros(length(RCfact),1); % initial resistor currents\n",
    "vCk = 0*pulseData.voltage; % initialize capacitor voltages\n",
    "if ~isempty(RCfact)\n",
    "  for k = 2:length(vCk)\n",
    "    iRk = diag(RCfact)*iRk + (1-RCfact)*ik(k-1); % update resistor current\n",
    "    vCk(k) = R'*iRk; % compute capacitor voltage\n",
    "  end\n",
    "end\n",
    "\n",
    "% Simulate SOC state\n",
    "z0 = SOCfromOCVtemp(pulseData.voltage(1),25,model); \n",
    "zk = z0-cumsum([0;ik(1:end-1)])*deltaT/(Q*3600); \n",
    "\n",
    "% Compute voltage estimate\n",
    "vest = OCVfromSOCtemp(zk,25,model) - vCk - ik.*R0;\n",
    "\n",
    "% Compare against measured voltage, compute RMSE in mV\n",
    "rmse = 1000*sqrt(mean((vk - vest).^2));\n",
    "\n",
    "% Plot some results \n",
    "subplot(2,1,1); plot(tk/60,vk,tk/60,vest); \n",
    "title('Voltage estimation'); grid on\n",
    "xlabel('Time (min)'); ylabel('Voltage (V))'); \n",
    "legend('True measured voltage','Model voltage','location','southeast');\n",
    "\n",
    "subplot(2,1,2); plot(tk/60,1000*(vk-vest)); \n",
    "title('Voltage estimation errors');\n",
    "xlabel('Time (min)'); ylabel('Voltage error (mV)');\n",
    "grid on\n",
    "fprintf('Your tuning values produced an RMS voltage-prediction error of %g mV\\n',rmse);"
   ]
  }
 ],
 "metadata": {
  "kernelspec": {
   "display_name": "Octave",
   "language": "octave",
   "name": "octave"
  },
  "language_info": {
   "file_extension": ".m",
   "help_links": [
    {
     "text": "GNU Octave",
     "url": "https://www.gnu.org/software/octave/support.html"
    },
    {
     "text": "Octave Kernel",
     "url": "https://github.com/Calysto/octave_kernel"
    },
    {
     "text": "MetaKernel Magics",
     "url": "https://github.com/calysto/metakernel/blob/master/metakernel/magics/README.md"
    }
   ],
   "mimetype": "text/x-octave",
   "name": "octave",
   "version": "4.2.2"
  }
 },
 "nbformat": 4,
 "nbformat_minor": 2
}
